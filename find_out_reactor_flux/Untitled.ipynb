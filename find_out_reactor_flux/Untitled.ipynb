{
 "cells": [
  {
   "cell_type": "code",
   "execution_count": 1,
   "metadata": {},
   "outputs": [],
   "source": [
    "import pandas as pd\n",
    "import numpy as np\n",
    "import matplotlib.pyplot as plt"
   ]
  },
  {
   "cell_type": "code",
   "execution_count": 2,
   "metadata": {},
   "outputs": [],
   "source": [
    "# Data from analysis\n",
    "#data = pd.read_csv('data.dat', names=['s2','dm','alp','ji'], delim_whitespace=True)\n",
    "data = pd.read_csv('data_grid_12x12.dat', names=['s2','dm','alp','ji'], delim_whitespace=True)\n",
    "\n",
    "\n",
    "# Data from RENO collaboration\n",
    "data_cl68 = pd.read_table('../reno_for_global_analysis/reno_data/reno2018_cl68.csv', delim_whitespace=True)\n",
    "data_cl95 = pd.read_table('../reno_for_global_analysis/reno_data/reno2018_cl95.csv', delim_whitespace=True)\n",
    "data_cl99 = pd.read_table('../reno_for_global_analysis/reno_data/reno2018_cl99.csv', delim_whitespace=True)"
   ]
  },
  {
   "cell_type": "code",
   "execution_count": null,
   "metadata": {},
   "outputs": [],
   "source": []
  },
  {
   "cell_type": "code",
   "execution_count": 3,
   "metadata": {},
   "outputs": [
    {
     "data": {
      "text/plain": [
       "15947"
      ]
     },
     "execution_count": 3,
     "metadata": {},
     "output_type": "execute_result"
    }
   ],
   "source": [
    "idx_min=data['ji'].idxmin()\n",
    "idx_min"
   ]
  },
  {
   "cell_type": "code",
   "execution_count": 4,
   "metadata": {},
   "outputs": [],
   "source": [
    "alp_min = data['alp'][idx_min]\n",
    "dm_min = data['dm'][idx_min]\n",
    "s2_min = data['s2'][idx_min]\n",
    "ji_min = data['ji'][idx_min]"
   ]
  },
  {
   "cell_type": "code",
   "execution_count": 5,
   "metadata": {},
   "outputs": [
    {
     "data": {
      "text/plain": [
       "452.4856643981541"
      ]
     },
     "execution_count": 5,
     "metadata": {},
     "output_type": "execute_result"
    }
   ],
   "source": [
    "ji_min"
   ]
  },
  {
   "cell_type": "code",
   "execution_count": 6,
   "metadata": {},
   "outputs": [
    {
     "data": {
      "text/plain": [
       "1.088"
      ]
     },
     "execution_count": 6,
     "metadata": {},
     "output_type": "execute_result"
    }
   ],
   "source": [
    "alp_min"
   ]
  },
  {
   "cell_type": "code",
   "execution_count": 7,
   "metadata": {},
   "outputs": [
    {
     "data": {
      "text/plain": [
       "0.0020371428571428567"
      ]
     },
     "execution_count": 7,
     "metadata": {},
     "output_type": "execute_result"
    }
   ],
   "source": [
    "dm_min"
   ]
  },
  {
   "cell_type": "code",
   "execution_count": 8,
   "metadata": {},
   "outputs": [
    {
     "data": {
      "text/plain": [
       "0.05927977999034861"
      ]
     },
     "execution_count": 8,
     "metadata": {},
     "output_type": "execute_result"
    }
   ],
   "source": [
    "s2_min"
   ]
  },
  {
   "cell_type": "code",
   "execution_count": 9,
   "metadata": {},
   "outputs": [],
   "source": [
    "new_Data = data[data['alp'] == alp_min][['s2','dm','ji']]"
   ]
  },
  {
   "cell_type": "code",
   "execution_count": 10,
   "metadata": {},
   "outputs": [],
   "source": [
    "new_Data['ji']=new_Data['ji'] - ji_min"
   ]
  },
  {
   "cell_type": "code",
   "execution_count": 11,
   "metadata": {},
   "outputs": [
    {
     "data": {
      "text/html": [
       "<div>\n",
       "<style scoped>\n",
       "    .dataframe tbody tr th:only-of-type {\n",
       "        vertical-align: middle;\n",
       "    }\n",
       "\n",
       "    .dataframe tbody tr th {\n",
       "        vertical-align: top;\n",
       "    }\n",
       "\n",
       "    .dataframe thead th {\n",
       "        text-align: right;\n",
       "    }\n",
       "</style>\n",
       "<table border=\"1\" class=\"dataframe\">\n",
       "  <thead>\n",
       "    <tr style=\"text-align: right;\">\n",
       "      <th></th>\n",
       "      <th>s2</th>\n",
       "      <th>dm</th>\n",
       "      <th>ji</th>\n",
       "    </tr>\n",
       "  </thead>\n",
       "  <tbody>\n",
       "    <tr>\n",
       "      <th>22</th>\n",
       "      <td>0.031776</td>\n",
       "      <td>0.002037</td>\n",
       "      <td>178.625948</td>\n",
       "    </tr>\n",
       "    <tr>\n",
       "      <th>57</th>\n",
       "      <td>0.031776</td>\n",
       "      <td>0.002074</td>\n",
       "      <td>96.160947</td>\n",
       "    </tr>\n",
       "    <tr>\n",
       "      <th>92</th>\n",
       "      <td>0.031776</td>\n",
       "      <td>0.002111</td>\n",
       "      <td>96.103633</td>\n",
       "    </tr>\n",
       "    <tr>\n",
       "      <th>127</th>\n",
       "      <td>0.031776</td>\n",
       "      <td>0.002149</td>\n",
       "      <td>96.171016</td>\n",
       "    </tr>\n",
       "    <tr>\n",
       "      <th>162</th>\n",
       "      <td>0.031776</td>\n",
       "      <td>0.002186</td>\n",
       "      <td>96.362424</td>\n",
       "    </tr>\n",
       "    <tr>\n",
       "      <th>...</th>\n",
       "      <td>...</td>\n",
       "      <td>...</td>\n",
       "      <td>...</td>\n",
       "    </tr>\n",
       "    <tr>\n",
       "      <th>42722</th>\n",
       "      <td>0.120000</td>\n",
       "      <td>0.003151</td>\n",
       "      <td>399.812662</td>\n",
       "    </tr>\n",
       "    <tr>\n",
       "      <th>42757</th>\n",
       "      <td>0.120000</td>\n",
       "      <td>0.003189</td>\n",
       "      <td>408.044852</td>\n",
       "    </tr>\n",
       "    <tr>\n",
       "      <th>42792</th>\n",
       "      <td>0.120000</td>\n",
       "      <td>0.003226</td>\n",
       "      <td>416.189650</td>\n",
       "    </tr>\n",
       "    <tr>\n",
       "      <th>42827</th>\n",
       "      <td>0.120000</td>\n",
       "      <td>0.003263</td>\n",
       "      <td>424.234262</td>\n",
       "    </tr>\n",
       "    <tr>\n",
       "      <th>42862</th>\n",
       "      <td>0.120000</td>\n",
       "      <td>0.003300</td>\n",
       "      <td>432.164775</td>\n",
       "    </tr>\n",
       "  </tbody>\n",
       "</table>\n",
       "<p>1225 rows × 3 columns</p>\n",
       "</div>"
      ],
      "text/plain": [
       "             s2        dm          ji\n",
       "22     0.031776  0.002037  178.625948\n",
       "57     0.031776  0.002074   96.160947\n",
       "92     0.031776  0.002111   96.103633\n",
       "127    0.031776  0.002149   96.171016\n",
       "162    0.031776  0.002186   96.362424\n",
       "...         ...       ...         ...\n",
       "42722  0.120000  0.003151  399.812662\n",
       "42757  0.120000  0.003189  408.044852\n",
       "42792  0.120000  0.003226  416.189650\n",
       "42827  0.120000  0.003263  424.234262\n",
       "42862  0.120000  0.003300  432.164775\n",
       "\n",
       "[1225 rows x 3 columns]"
      ]
     },
     "execution_count": 11,
     "metadata": {},
     "output_type": "execute_result"
    }
   ],
   "source": [
    "new_Data"
   ]
  },
  {
   "cell_type": "code",
   "execution_count": 12,
   "metadata": {},
   "outputs": [],
   "source": [
    "dat_68 = new_Data[new_Data['ji'] <= 2.3]#[['s2','dm']]\n",
    "dat_95 = new_Data[new_Data['ji'] <= 6.2]#[['s2','dm']]\n",
    "dat_99 = new_Data[new_Data['ji'] <= 11.8]#[['s2','dm']]"
   ]
  },
  {
   "cell_type": "code",
   "execution_count": 13,
   "metadata": {},
   "outputs": [],
   "source": [
    "new_Data.to_csv('data_plot.dat', sep=' ', header=False, index=False)"
   ]
  },
  {
   "cell_type": "code",
   "execution_count": 14,
   "metadata": {},
   "outputs": [
    {
     "data": {
      "image/png": "[encoded data removed]",
      "text/plain": [
       "<Figure size 576x576 with 1 Axes>"
      ]
     },
     "metadata": {
      "needs_background": "light"
     },
     "output_type": "display_data"
    }
   ],
   "source": [
    "fig, ax = plt.subplots(figsize=(8,8))\n",
    "\n",
    "ax.scatter(data_cl68.s22t13, data_cl68.dmee, label='RENO 68%')\n",
    "ax.scatter(data_cl95.s22t13, data_cl95.dmee, label='RENO 95%')\n",
    "ax.scatter(data_cl99.s22t13, data_cl99.dmee, label='RENO 99%')\n",
    "size=10\n",
    "ax.scatter(dat_99.s2, dat_99.dm, s=size, label='Our 99%')\n",
    "ax.scatter(dat_95.s2, dat_95.dm, s=size, label='Our 95%')\n",
    "ax.scatter(dat_68.s2, dat_68.dm, s=size, label='Our 68%')\n",
    "\n",
    "ax.set_xlim(0.0, 0.2)\n",
    "#ax.set_xticks([0,0.05,0.1,0.15,0.2])\n",
    "\n",
    "ax.set_ylim(0.0015, 0.0035)\n",
    "#ax.set_yticks([0.002,0.0025,0.0030,0.0035])\n",
    "\n",
    "ax.legend()\n",
    "\n",
    "fig.savefig(\"reno_best_fit_param_35x35x35_f_n_5pulls.png\")\n",
    "plt.show()"
   ]
  },
  {
   "cell_type": "code",
   "execution_count": null,
   "metadata": {},
   "outputs": [],
   "source": []
  },
  {
   "cell_type": "code",
   "execution_count": null,
   "metadata": {},
   "outputs": [],
   "source": []
  }
 ],
 "metadata": {
  "kernelspec": {
   "display_name": "Python 3",
   "language": "python",
   "name": "python3"
  },
  "language_info": {
   "codemirror_mode": {
    "name": "ipython",
    "version": 3
   },
   "file_extension": ".py",
   "mimetype": "text/x-python",
   "name": "python",
   "nbconvert_exporter": "python",
   "pygments_lexer": "ipython3",
   "version": "3.7.6"
  }
 },
 "nbformat": 4,
 "nbformat_minor": 4
}
