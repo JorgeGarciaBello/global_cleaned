{
 "cells": [
  {
   "cell_type": "code",
   "execution_count": 1,
   "metadata": {},
   "outputs": [],
   "source": [
    "import pandas as pd\n",
    "import numpy as np\n",
    "import matplotlib.pyplot as plt"
   ]
  },
  {
   "cell_type": "code",
   "execution_count": 2,
   "metadata": {},
   "outputs": [],
   "source": [
    "# Data from analysis\n",
    "#data = pd.read_csv('data.dat', names=['s2','dm','alp','ji'], delim_whitespace=True)\n",
    "data = pd.read_csv('data_grid_12x12.dat', names=['s2','dm','alp','ji'], delim_whitespace=True)\n",
    "\n",
    "\n",
    "# Data from RENO collaboration\n",
    "data_cl68 = pd.read_table('../reno_for_global_analysis/reno_data/reno2018_cl68.csv', delim_whitespace=True)\n",
    "data_cl95 = pd.read_table('../reno_for_global_analysis/reno_data/reno2018_cl95.csv', delim_whitespace=True)\n",
    "data_cl99 = pd.read_table('../reno_for_global_analysis/reno_data/reno2018_cl99.csv', delim_whitespace=True)"
   ]
  },
  {
   "cell_type": "code",
   "execution_count": null,
   "metadata": {},
   "outputs": [],
   "source": []
  },
  {
   "cell_type": "code",
   "execution_count": 3,
   "metadata": {},
   "outputs": [
    {
     "data": {
      "text/plain": [
       "13106"
      ]
     },
     "execution_count": 3,
     "metadata": {},
     "output_type": "execute_result"
    }
   ],
   "source": [
    "idx_min=data['ji'].idxmin()\n",
    "idx_min"
   ]
  },
  {
   "cell_type": "code",
   "execution_count": 4,
   "metadata": {},
   "outputs": [],
   "source": [
    "alp_min = data['alp'][idx_min]\n",
    "dm_min = data['dm'][idx_min]\n",
    "s2_min = data['s2'][idx_min]\n",
    "ji_min = data['ji'][idx_min]"
   ]
  },
  {
   "cell_type": "code",
   "execution_count": 5,
   "metadata": {},
   "outputs": [
    {
     "data": {
      "text/plain": [
       "17.34677570775544"
      ]
     },
     "execution_count": 5,
     "metadata": {},
     "output_type": "execute_result"
    }
   ],
   "source": [
    "ji_min"
   ]
  },
  {
   "cell_type": "code",
   "execution_count": 6,
   "metadata": {},
   "outputs": [
    {
     "data": {
      "text/plain": [
       "1.1389999999999998"
      ]
     },
     "execution_count": 6,
     "metadata": {},
     "output_type": "execute_result"
    }
   ],
   "source": [
    "alp_min"
   ]
  },
  {
   "cell_type": "code",
   "execution_count": 7,
   "metadata": {},
   "outputs": [
    {
     "data": {
      "text/plain": [
       "0.002736666666666667"
      ]
     },
     "execution_count": 7,
     "metadata": {},
     "output_type": "execute_result"
    }
   ],
   "source": [
    "dm_min"
   ]
  },
  {
   "cell_type": "code",
   "execution_count": 8,
   "metadata": {},
   "outputs": [
    {
     "data": {
      "text/plain": [
       "0.06804761622476074"
      ]
     },
     "execution_count": 8,
     "metadata": {},
     "output_type": "execute_result"
    }
   ],
   "source": [
    "s2_min"
   ]
  },
  {
   "cell_type": "code",
   "execution_count": 9,
   "metadata": {},
   "outputs": [],
   "source": [
    "new_Data = data[data['alp'] == alp_min][['s2','dm','ji']]"
   ]
  },
  {
   "cell_type": "code",
   "execution_count": 10,
   "metadata": {},
   "outputs": [],
   "source": [
    "new_Data['ji']=new_Data['ji'] - ji_min"
   ]
  },
  {
   "cell_type": "code",
   "execution_count": 11,
   "metadata": {},
   "outputs": [
    {
     "data": {
      "text/html": [
       "<div>\n",
       "<style scoped>\n",
       "    .dataframe tbody tr th:only-of-type {\n",
       "        vertical-align: middle;\n",
       "    }\n",
       "\n",
       "    .dataframe tbody tr th {\n",
       "        vertical-align: top;\n",
       "    }\n",
       "\n",
       "    .dataframe thead th {\n",
       "        text-align: right;\n",
       "    }\n",
       "</style>\n",
       "<table border=\"1\" class=\"dataframe\">\n",
       "  <thead>\n",
       "    <tr style=\"text-align: right;\">\n",
       "      <th></th>\n",
       "      <th>s2</th>\n",
       "      <th>dm</th>\n",
       "      <th>ji</th>\n",
       "    </tr>\n",
       "  </thead>\n",
       "  <tbody>\n",
       "    <tr>\n",
       "      <th>26</th>\n",
       "      <td>0.032077</td>\n",
       "      <td>0.002043</td>\n",
       "      <td>30.840889</td>\n",
       "    </tr>\n",
       "    <tr>\n",
       "      <th>56</th>\n",
       "      <td>0.032077</td>\n",
       "      <td>0.002087</td>\n",
       "      <td>29.801745</td>\n",
       "    </tr>\n",
       "    <tr>\n",
       "      <th>86</th>\n",
       "      <td>0.032077</td>\n",
       "      <td>0.002130</td>\n",
       "      <td>28.780901</td>\n",
       "    </tr>\n",
       "    <tr>\n",
       "      <th>116</th>\n",
       "      <td>0.032077</td>\n",
       "      <td>0.002173</td>\n",
       "      <td>27.783507</td>\n",
       "    </tr>\n",
       "    <tr>\n",
       "      <th>146</th>\n",
       "      <td>0.032077</td>\n",
       "      <td>0.002217</td>\n",
       "      <td>26.813427</td>\n",
       "    </tr>\n",
       "    <tr>\n",
       "      <th>...</th>\n",
       "      <td>...</td>\n",
       "      <td>...</td>\n",
       "      <td>...</td>\n",
       "    </tr>\n",
       "    <tr>\n",
       "      <th>26876</th>\n",
       "      <td>0.120000</td>\n",
       "      <td>0.003127</td>\n",
       "      <td>85.098003</td>\n",
       "    </tr>\n",
       "    <tr>\n",
       "      <th>26906</th>\n",
       "      <td>0.120000</td>\n",
       "      <td>0.003170</td>\n",
       "      <td>92.445976</td>\n",
       "    </tr>\n",
       "    <tr>\n",
       "      <th>26936</th>\n",
       "      <td>0.120000</td>\n",
       "      <td>0.003213</td>\n",
       "      <td>100.365939</td>\n",
       "    </tr>\n",
       "    <tr>\n",
       "      <th>26966</th>\n",
       "      <td>0.120000</td>\n",
       "      <td>0.003257</td>\n",
       "      <td>108.826709</td>\n",
       "    </tr>\n",
       "    <tr>\n",
       "      <th>26996</th>\n",
       "      <td>0.120000</td>\n",
       "      <td>0.003300</td>\n",
       "      <td>117.792277</td>\n",
       "    </tr>\n",
       "  </tbody>\n",
       "</table>\n",
       "<p>900 rows × 3 columns</p>\n",
       "</div>"
      ],
      "text/plain": [
       "             s2        dm          ji\n",
       "26     0.032077  0.002043   30.840889\n",
       "56     0.032077  0.002087   29.801745\n",
       "86     0.032077  0.002130   28.780901\n",
       "116    0.032077  0.002173   27.783507\n",
       "146    0.032077  0.002217   26.813427\n",
       "...         ...       ...         ...\n",
       "26876  0.120000  0.003127   85.098003\n",
       "26906  0.120000  0.003170   92.445976\n",
       "26936  0.120000  0.003213  100.365939\n",
       "26966  0.120000  0.003257  108.826709\n",
       "26996  0.120000  0.003300  117.792277\n",
       "\n",
       "[900 rows x 3 columns]"
      ]
     },
     "execution_count": 11,
     "metadata": {},
     "output_type": "execute_result"
    }
   ],
   "source": [
    "new_Data"
   ]
  },
  {
   "cell_type": "code",
   "execution_count": 12,
   "metadata": {},
   "outputs": [],
   "source": [
    "dat_68 = new_Data[new_Data['ji'] <= 2.3]#[['s2','dm']]\n",
    "dat_95 = new_Data[new_Data['ji'] <= 6.2]#[['s2','dm']]\n",
    "dat_99 = new_Data[new_Data['ji'] <= 11.8]#[['s2','dm']]"
   ]
  },
  {
   "cell_type": "code",
   "execution_count": 13,
   "metadata": {},
   "outputs": [],
   "source": [
    "new_Data.to_csv('data_plot.dat', sep=' ', header=False, index=False)"
   ]
  },
  {
   "cell_type": "code",
   "execution_count": 14,
   "metadata": {},
   "outputs": [
    {
     "data": {
      "image/png": "[encoded data removed]",
      "text/plain": [
       "<Figure size 576x576 with 1 Axes>"
      ]
     },
     "metadata": {
      "needs_background": "light"
     },
     "output_type": "display_data"
    }
   ],
   "source": [
    "fig, ax = plt.subplots(figsize=(8,8))\n",
    "\n",
    "ax.scatter(data_cl68.s22t13, data_cl68.dmee, label='RENO 68%')\n",
    "ax.scatter(data_cl95.s22t13, data_cl95.dmee, label='RENO 95%')\n",
    "ax.scatter(data_cl99.s22t13, data_cl99.dmee, label='RENO 99%')\n",
    "size=10\n",
    "ax.scatter(dat_99.s2, dat_99.dm, s=size, label='Our 99%')\n",
    "ax.scatter(dat_95.s2, dat_95.dm, s=size, label='Our 95%')\n",
    "ax.scatter(dat_68.s2, dat_68.dm, s=size, label='Our 68%')\n",
    "\n",
    "ax.set_xlim(0.0, 0.2)\n",
    "#ax.set_xticks([0,0.05,0.1,0.15,0.2])\n",
    "\n",
    "ax.set_ylim(0.0015, 0.0035)\n",
    "#ax.set_yticks([0.002,0.0025,0.0030,0.0035])\n",
    "\n",
    "ax.legend()\n",
    "\n",
    "fig.savefig(\"reno_best_fit_param_12x12.png\")\n",
    "plt.show()"
   ]
  },
  {
   "cell_type": "code",
   "execution_count": null,
   "metadata": {},
   "outputs": [],
   "source": []
  },
  {
   "cell_type": "code",
   "execution_count": null,
   "metadata": {},
   "outputs": [],
   "source": []
  }
 ],
 "metadata": {
  "kernelspec": {
   "display_name": "Python 3",
   "language": "python",
   "name": "python3"
  },
  "language_info": {
   "codemirror_mode": {
    "name": "ipython",
    "version": 3
   },
   "file_extension": ".py",
   "mimetype": "text/x-python",
   "name": "python",
   "nbconvert_exporter": "python",
   "pygments_lexer": "ipython3",
   "version": "3.7.6"
  }
 },
 "nbformat": 4,
 "nbformat_minor": 4
}
